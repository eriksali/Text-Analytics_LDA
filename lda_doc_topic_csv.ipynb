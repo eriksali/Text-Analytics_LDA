{
  "nbformat": 4,
  "nbformat_minor": 0,
  "metadata": {
    "colab": {
      "name": "lda_doc_topic.ipynb",
      "provenance": [],
      "collapsed_sections": [],
      "authorship_tag": "ABX9TyP2pFuLOQ1aj8UvGwrmRXdt",
      "include_colab_link": true
    },
    "kernelspec": {
      "name": "python3",
      "display_name": "Python 3"
    },
    "language_info": {
      "name": "python"
    }
  },
  "cells": [
    {
      "cell_type": "markdown",
      "metadata": {
        "id": "view-in-github",
        "colab_type": "text"
      },
      "source": [
        "<a href=\"https://colab.research.google.com/github/eriksali/Text-Analytics_LDA/blob/master/lda_doc_topic_csv.ipynb\" target=\"_parent\"><img src=\"https://colab.research.google.com/assets/colab-badge.svg\" alt=\"Open In Colab\"/></a>"
      ]
    },
    {
      "cell_type": "code",
      "execution_count": null,
      "metadata": {
        "id": "0X71SblHj5kd"
      },
      "outputs": [],
      "source": [
        "%load_ext autoreload\n",
        "%autoreload 2"
      ]
    },
    {
      "cell_type": "code",
      "source": [
        "import numpy as np\n",
        "import matplotlib.pyplot as plt\n",
        "from sklearn.cluster import KMeans\n",
        "from sklearn.datasets import make_blobs\n",
        "from sklearn.feature_extraction.text import CountVectorizer\n",
        "import nltk\n",
        "from nltk.corpus import stopwords\n",
        "import matplotlib\n",
        "import time\n",
        "\n",
        "# Importing Gensim\n",
        "import gensim\n",
        "from gensim import corpora\n",
        "\n",
        "from google.colab import files\n",
        "src = list(files.upload().values())[0]\n",
        "open('utils.py','wb').write(src)\n"
      ],
      "metadata": {
        "colab": {
          "resources": {
            "http://localhost:8080/nbextensions/google.colab/files.js": {
              "data": "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",
              "ok": true,
              "headers": [
                [
                  "content-type",
                  "application/javascript"
                ]
              ],
              "status": 200,
              "status_text": ""
            }
          },
          "base_uri": "https://localhost:8080/",
          "height": 90
        },
        "id": "f0BLGdXrkJaR",
        "outputId": "55918224-a3a4-4d22-99c0-1b81577adba2"
      },
      "execution_count": null,
      "outputs": [
        {
          "output_type": "display_data",
          "data": {
            "text/plain": [
              "<IPython.core.display.HTML object>"
            ],
            "text/html": [
              "\n",
              "     <input type=\"file\" id=\"files-b2b0351d-2535-4dc7-aa0f-565d12a878aa\" name=\"files[]\" multiple disabled\n",
              "        style=\"border:none\" />\n",
              "     <output id=\"result-b2b0351d-2535-4dc7-aa0f-565d12a878aa\">\n",
              "      Upload widget is only available when the cell has been executed in the\n",
              "      current browser session. Please rerun this cell to enable.\n",
              "      </output>\n",
              "      <script src=\"/nbextensions/google.colab/files.js\"></script> "
            ]
          },
          "metadata": {}
        },
        {
          "output_type": "stream",
          "name": "stdout",
          "text": [
            "Saving utils.py to utils.py\n"
          ]
        },
        {
          "output_type": "execute_result",
          "data": {
            "text/plain": [
              "5237"
            ]
          },
          "metadata": {},
          "execution_count": 1
        }
      ]
    },
    {
      "cell_type": "code",
      "source": [
        "\n",
        "\n",
        "from utils import load_data\n",
        "from utils import preprocess_pipeline"
      ],
      "metadata": {
        "id": "zt_q0MpLmCGO"
      },
      "execution_count": null,
      "outputs": []
    },
    {
      "cell_type": "code",
      "source": [
        "from google.colab import drive\n",
        "drive.mount('/content/drive/')"
      ],
      "metadata": {
        "colab": {
          "base_uri": "https://localhost:8080/"
        },
        "id": "JbdiGj7ukJuU",
        "outputId": "6a8703e0-b9c9-4d14-bd83-cc11abc752f6"
      },
      "execution_count": null,
      "outputs": [
        {
          "output_type": "stream",
          "name": "stdout",
          "text": [
            "Mounted at /content/drive/\n"
          ]
        }
      ]
    },
    {
      "cell_type": "code",
      "source": [
        "#dirpath = '/content/drive/MyDrive/lda_silhouette/Names_no_duplicates/'\n",
        "dirpath = '/content/drive/MyDrive/Names/'\n",
        "#output = '/content/drive/MyDrive/lda_silhouette/name.csv'\n",
        "\n",
        "files = [os.path.join(dirpath, fname) for fname in os.listdir(dirpath)]\n",
        "\n",
        "i = 1\n",
        "for filename in sorted(files):\n",
        "    with open(filename, 'r') as f:\n",
        "        list = f.read().split(' ')\n",
        "        #s = \", \".join(\"'\" + item + \"'\" for item in map(str, list))\n",
        "        s = \", \".join(map(str, list))\n",
        "        #print(f.read().split(' '))\n",
        "        path = '/content/drive/MyDrive/lda_silhouette/Names_comma/' + str(i) + '.txt'\n",
        "        i = i + 1\n",
        "        \n",
        "        with open(path, 'w') as f_:\n",
        "            f_.write(s)"
      ],
      "metadata": {
        "id": "fApky2YLPsqw"
      },
      "execution_count": 131,
      "outputs": []
    },
    {
      "cell_type": "code",
      "source": [
        "#dirpath = '/content/drive/MyDrive/lda_silhouette/Names_no_duplicates/'\n",
        "dirpath = '/content/drive/MyDrive/Names/'\n",
        "#output = '/content/drive/MyDrive/lda_silhouette/name.csv'\n",
        "\n",
        "files = [os.path.join(dirpath, fname) for fname in os.listdir(dirpath)]\n",
        "corpus = []\n",
        "i = 1\n",
        "s = ''\n",
        "for filename in sorted(files):\n",
        "    with open(filename, 'r') as f:\n",
        "        #corpus = []\n",
        "        corpus += [f.read()]\n",
        "        #s = \"\".join(f.read())\n",
        "        \n",
        "        #print(s)\n",
        "corpus"
      ],
      "metadata": {
        "id": "lFuul4TWSsky"
      },
      "execution_count": null,
      "outputs": []
    },
    {
      "cell_type": "code",
      "source": [
        "import nltk\n",
        "nltk.download('wordnet')\n",
        "  \n",
        "# Apply Preprocessing on the Corpus\n",
        "\n",
        "# stop loss words \n",
        "stop = set(stopwords.words('english'))\n",
        "\n",
        "# punctuation \n",
        "exclude = set(string.punctuation) \n",
        "\n",
        "# lemmatization\n",
        "lemma = WordNetLemmatizer() \n",
        "\n",
        "# One function for all the steps:\n",
        "def clean(doc):\n",
        "    \n",
        "    # convert text into lower case + split into words\n",
        "    stop_free = \" \".join([i for i in doc.lower().split() if i not in stop])\n",
        "    \n",
        "    # remove any stop words present\n",
        "    punc_free = ''.join(ch for ch in stop_free if ch not in exclude)  \n",
        "    \n",
        "    # remove punctuations + normalize the text\n",
        "    normalized = \" \".join(lemma.lemmatize(word) for word in punc_free.split())  \n",
        "    return normalized\n",
        "\n",
        "# clean data stored in a new list\n",
        "clean_corpus = [clean(doc).split() for doc in corpus] "
      ],
      "metadata": {
        "colab": {
          "base_uri": "https://localhost:8080/"
        },
        "id": "tPe9FMP_WAHS",
        "outputId": "938748fe-4035-42a2-9c48-37543215b6fa"
      },
      "execution_count": 141,
      "outputs": [
        {
          "output_type": "stream",
          "name": "stdout",
          "text": [
            "[nltk_data] Downloading package wordnet to /root/nltk_data...\n",
            "[nltk_data]   Unzipping corpora/wordnet.zip.\n"
          ]
        }
      ]
    },
    {
      "cell_type": "code",
      "source": [
        "clean_corpus"
      ],
      "metadata": {
        "id": "BemmdO7wWOVP"
      },
      "execution_count": null,
      "outputs": []
    },
    {
      "cell_type": "code",
      "source": [
        "# Creating the term dictionary of our courpus that is of all the words (Sepcific to Genism syntax perspective), \n",
        "# where every unique term is assigned an index. \n",
        "\n",
        "dict_ = corpora.Dictionary(clean_corpus)\n",
        "\n",
        "print(dict_)"
      ],
      "metadata": {
        "colab": {
          "base_uri": "https://localhost:8080/"
        },
        "id": "S5xCykUvWW0K",
        "outputId": "35e7476d-ccd1-4dc9-aca7-2126b141f637"
      },
      "execution_count": 143,
      "outputs": [
        {
          "output_type": "stream",
          "name": "stdout",
          "text": [
            "Dictionary(2895 unique tokens: ['correct', 'equal', 'loss', 'pred', 'repeat']...)\n"
          ]
        }
      ]
    },
    {
      "cell_type": "code",
      "source": [
        "for i in dict_.values():\n",
        "    print(i)"
      ],
      "metadata": {
        "id": "UgOhn__TWeaF"
      },
      "execution_count": null,
      "outputs": []
    },
    {
      "cell_type": "code",
      "source": [
        "# Converting list of documents (corpus) into Document Term Matrix using the dictionary \n",
        "doc_term_matrix = [dict_.doc2bow(i) for i in clean_corpus]\n",
        "doc_term_matrix"
      ],
      "metadata": {
        "id": "eSyt4IjIWq8Q"
      },
      "execution_count": null,
      "outputs": []
    },
    {
      "cell_type": "code",
      "source": [
        "# Creating the object for LDA model using gensim library\n",
        "\n",
        "Lda = gensim.models.ldamodel.LdaModel\n",
        "# Running and Training LDA model on the document term matrix.\n",
        "\n",
        "ldamodel = Lda(doc_term_matrix, num_topics=10, id2word = dict_, passes=20, random_state=0, eval_every=None)\n",
        "# Prints the topics with the indexes: 0,1,2 :\n",
        "\n",
        "ldamodel.print_topics()\n",
        "\n",
        "# we need to manually check whethere the topics are different from one another or not"
      ],
      "metadata": {
        "id": "vZVypyxQW2JX"
      },
      "execution_count": null,
      "outputs": []
    },
    {
      "cell_type": "code",
      "source": [
        "print(ldamodel.print_topics(num_topics=10, num_words=100))\n",
        "\n",
        "# num_topics mean: how many topics want to extract \n",
        "# num_words: the number of words that want per topic"
      ],
      "metadata": {
        "colab": {
          "base_uri": "https://localhost:8080/"
        },
        "id": "cF0YJu_QXBZu",
        "outputId": "c5f7fcfb-6a16-4b83-96ad-834a944f067c"
      },
      "execution_count": 151,
      "outputs": [
        {
          "output_type": "stream",
          "name": "stdout",
          "text": [
            "[(0, '0.023*\"mock\" + 0.023*\"respons\" + 0.022*\"client\" + 0.021*\"field\" + 0.019*\"msg\" + 0.018*\"result\" + 0.018*\"command\" + 0.018*\"json\" + 0.016*\"get\" + 0.016*\"error\" + 0.015*\"valu\" + 0.014*\"return\" + 0.013*\"arg\" + 0.013*\"equal\" + 0.012*\"call\" + 0.011*\"request\" + 0.010*\"output\" + 0.010*\"mocker\" + 0.010*\"rais\" + 0.009*\"statu\" + 0.009*\"object\" + 0.009*\"data\" + 0.009*\"new\" + 0.008*\"except\" + 0.008*\"type\" + 0.008*\"run\" + 0.008*\"str\" + 0.008*\"expect\" + 0.007*\"exp\" + 0.007*\"doc\" + 0.007*\"api\" + 0.007*\"demisto\" + 0.006*\"list\" + 0.006*\"patch\" + 0.006*\"incid\" + 0.006*\"code\" + 0.006*\"creat\" + 0.005*\"old\" + 0.005*\"http\" + 0.005*\"key\" + 0.005*\"url\" + 0.005*\"servic\" + 0.005*\"contain\" + 0.005*\"file\" + 0.005*\"com\" + 0.005*\"argument\" + 0.004*\"context\" + 0.004*\"given\" + 0.004*\"fetch\" + 0.004*\"pytest\" + 0.004*\"max\" + 0.004*\"actual\" + 0.004*\"name\" + 0.004*\"asset\" + 0.004*\"match\" + 0.004*\"bodi\" + 0.004*\"poli\" + 0.004*\"server\" + 0.004*\"content\" + 0.004*\"dict\" + 0.004*\"local\" + 0.004*\"min\" + 0.004*\"line\" + 0.003*\"namespac\" + 0.003*\"gener\" + 0.003*\"user\" + 0.003*\"offset\" + 0.003*\"benchmark\" + 0.003*\"par\" + 0.003*\"area\" + 0.003*\"updat\" + 0.003*\"ivi\" + 0.003*\"dev\" + 0.003*\"descript\" + 0.003*\"sin\" + 0.003*\"exampl\" + 0.003*\"text\" + 0.003*\"action\" + 0.003*\"issu\" + 0.003*\"option\" + 0.003*\"integr\" + 0.003*\"messag\" + 0.003*\"version\" + 0.003*\"function\" + 0.003*\"load\" + 0.003*\"len\" + 0.003*\"header\" + 0.003*\"last\" + 0.003*\"execut\" + 0.003*\"end\" + 0.003*\"post\" + 0.003*\"oper\" + 0.003*\"true\" + 0.002*\"valid\" + 0.002*\"success\" + 0.002*\"endpoint\" + 0.002*\"core\" + 0.002*\"send\" + 0.002*\"access\" + 0.002*\"workflow\"'), (1, '0.068*\"config\" + 0.037*\"result\" + 0.030*\"entri\" + 0.016*\"flow\" + 0.012*\"data\" + 0.011*\"histori\" + 0.011*\"get\" + 0.010*\"list\" + 0.010*\"len\" + 0.010*\"user\" + 0.009*\"fname\" + 0.009*\"option\" + 0.009*\"dataset\" + 0.008*\"one\" + 0.007*\"arg\" + 0.007*\"sourc\" + 0.007*\"calcul\" + 0.007*\"devic\" + 0.007*\"param\" + 0.007*\"model\" + 0.007*\"align\" + 0.007*\"path\" + 0.006*\"return\" + 0.006*\"type\" + 0.006*\"opt\" + 0.006*\"function\" + 0.006*\"use\" + 0.006*\"configur\" + 0.006*\"src\" + 0.006*\"form\" + 0.006*\"new\" + 0.006*\"context\" + 0.005*\"error\" + 0.005*\"iter\" + 0.005*\"creat\" + 0.005*\"sequenc\" + 0.005*\"manag\" + 0.005*\"add\" + 0.005*\"init\" + 0.005*\"delay\" + 0.005*\"content\" + 0.005*\"speaker\" + 0.005*\"join\" + 0.005*\"polici\" + 0.004*\"client\" + 0.004*\"output\" + 0.004*\"input\" + 0.004*\"retri\" + 0.004*\"mask\" + 0.004*\"integr\" + 0.004*\"linestr\" + 0.004*\"dip\" + 0.004*\"rang\" + 0.004*\"space\" + 0.004*\"read\" + 0.004*\"step\" + 0.004*\"peer\" + 0.004*\"valu\" + 0.004*\"atom\" + 0.004*\"yield\" + 0.003*\"instal\" + 0.003*\"num\" + 0.003*\"empti\" + 0.003*\"readabl\" + 0.003*\"print\" + 0.003*\"second\" + 0.003*\"hyp\" + 0.003*\"lattic\" + 0.003*\"definit\" + 0.003*\"initi\" + 0.003*\"ha\" + 0.003*\"limit\" + 0.003*\"fail\" + 0.003*\"async\" + 0.003*\"conf\" + 0.003*\"except\" + 0.003*\"repeat\" + 0.003*\"import\" + 0.003*\"raw\" + 0.003*\"val\" + 0.003*\"ctc\" + 0.003*\"extra\" + 0.003*\"isinst\" + 0.003*\"profil\" + 0.003*\"remov\" + 0.003*\"search\" + 0.003*\"optim\" + 0.003*\"ref\" + 0.003*\"eval\" + 0.002*\"thi\" + 0.002*\"rescal\" + 0.002*\"tfd\" + 0.002*\"connect\" + 0.002*\"respons\" + 0.002*\"tupl\" + 0.002*\"rais\" + 0.002*\"member\" + 0.002*\"select\" + 0.002*\"partit\" + 0.002*\"next\"'), (2, '0.044*\"model\" + 0.032*\"input\" + 0.022*\"output\" + 0.018*\"featur\" + 0.017*\"path\" + 0.016*\"shape\" + 0.015*\"file\" + 0.015*\"data\" + 0.014*\"name\" + 0.013*\"layer\" + 0.013*\"size\" + 0.011*\"equal\" + 0.011*\"batch\" + 0.011*\"num\" + 0.010*\"graph\" + 0.009*\"exampl\" + 0.008*\"box\" + 0.008*\"dtype\" + 0.008*\"param\" + 0.008*\"dir\" + 0.008*\"array\" + 0.007*\"train\" + 0.007*\"get\" + 0.007*\"score\" + 0.007*\"random\" + 0.007*\"dim\" + 0.007*\"type\" + 0.006*\"tensor\" + 0.006*\"encod\" + 0.006*\"ref\" + 0.006*\"weight\" + 0.006*\"detect\" + 0.005*\"class\" + 0.005*\"valu\" + 0.005*\"count\" + 0.005*\"list\" + 0.005*\"label\" + 0.005*\"creat\" + 0.005*\"imag\" + 0.005*\"pad\" + 0.005*\"mask\" + 0.005*\"expect\" + 0.005*\"float32\" + 0.005*\"group\" + 0.005*\"channel\" + 0.005*\"eval\" + 0.005*\"slice\" + 0.005*\"loss\" + 0.004*\"gener\" + 0.004*\"config\" + 0.004*\"verifi\" + 0.004*\"stat\" + 0.004*\"net\" + 0.004*\"torch\" + 0.004*\"sim\" + 0.004*\"dict\" + 0.004*\"load\" + 0.003*\"groundtruth\" + 0.003*\"kera\" + 0.003*\"ctx\" + 0.003*\"statist\" + 0.003*\"seed\" + 0.003*\"activ\" + 0.003*\"step\" + 0.003*\"atol\" + 0.003*\"format\" + 0.003*\"norm\" + 0.003*\"true\" + 0.003*\"close\" + 0.003*\"uniform\" + 0.003*\"session\" + 0.003*\"save\" + 0.003*\"almost\" + 0.003*\"allclos\" + 0.003*\"text\" + 0.003*\"embed\" + 0.003*\"lift\" + 0.003*\"kernel\" + 0.003*\"run\" + 0.003*\"dataset\" + 0.003*\"use\" + 0.003*\"variabl\" + 0.003*\"hidden\" + 0.003*\"join\" + 0.003*\"sess\" + 0.002*\"emb\" + 0.002*\"util\" + 0.002*\"default\" + 0.002*\"initi\" + 0.002*\"func\" + 0.002*\"function\" + 0.002*\"key\" + 0.002*\"rtol\" + 0.002*\"convert\" + 0.002*\"schema\" + 0.002*\"posit\" + 0.002*\"target\" + 0.002*\"float\" + 0.002*\"init\" + 0.002*\"result\"'), (3, '0.032*\"valu\" + 0.027*\"sampl\" + 0.027*\"array\" + 0.020*\"label\" + 0.018*\"job\" + 0.015*\"color\" + 0.014*\"event\" + 0.013*\"bucket\" + 0.012*\"node\" + 0.012*\"count\" + 0.011*\"equal\" + 0.010*\"type\" + 0.010*\"backend\" + 0.009*\"num\" + 0.009*\"edg\" + 0.009*\"low\" + 0.009*\"high\" + 0.009*\"time\" + 0.008*\"cbv\" + 0.008*\"list\" + 0.008*\"get\" + 0.007*\"result\" + 0.007*\"percent\" + 0.006*\"len\" + 0.006*\"track\" + 0.006*\"weight\" + 0.006*\"start\" + 0.006*\"indic\" + 0.006*\"dtype\" + 0.006*\"order\" + 0.006*\"zero\" + 0.005*\"check\" + 0.005*\"target\" + 0.005*\"stack\" + 0.005*\"name\" + 0.005*\"observ\" + 0.005*\"first\" + 0.005*\"wrapper\" + 0.004*\"correct\" + 0.004*\"assoc\" + 0.004*\"histogram\" + 0.004*\"thread\" + 0.004*\"plot\" + 0.004*\"extra\" + 0.004*\"matrix\" + 0.004*\"flat\" + 0.004*\"match\" + 0.004*\"new\" + 0.004*\"tree\" + 0.004*\"element\" + 0.004*\"return\" + 0.004*\"alpha\" + 0.004*\"gener\" + 0.004*\"success\" + 0.004*\"bar\" + 0.004*\"raw\" + 0.003*\"environ\" + 0.003*\"rgb\" + 0.003*\"allclos\" + 0.003*\"run\" + 0.003*\"add\" + 0.003*\"ndim\" + 0.003*\"experi\" + 0.003*\"knx\" + 0.003*\"est\" + 0.003*\"axe\" + 0.003*\"reduct\" + 0.003*\"address\" + 0.003*\"line\" + 0.003*\"pytest\" + 0.003*\"flux\" + 0.003*\"featur\" + 0.003*\"one\" + 0.003*\"processor\" + 0.003*\"annot\" + 0.003*\"pea\" + 0.003*\"sfreq\" + 0.003*\"creat\" + 0.003*\"save\" + 0.003*\"csd\" + 0.003*\"vertex\" + 0.003*\"sourc\" + 0.003*\"associ\" + 0.003*\"curv\" + 0.003*\"app\" + 0.003*\"bright\" + 0.003*\"tupl\" + 0.003*\"warn\" + 0.003*\"sub\" + 0.003*\"info\" + 0.003*\"text\" + 0.002*\"nengo\" + 0.002*\"hete\" + 0.002*\"second\" + 0.002*\"data\" + 0.002*\"light\" + 0.002*\"dash\" + 0.002*\"expect\" + 0.002*\"multi\" + 0.002*\"url\"'), (4, '0.041*\"expect\" + 0.030*\"data\" + 0.024*\"index\" + 0.023*\"equal\" + 0.022*\"imag\" + 0.020*\"result\" + 0.019*\"frame\" + 0.015*\"shape\" + 0.014*\"dtype\" + 0.012*\"valu\" + 0.012*\"dataset\" + 0.010*\"train\" + 0.010*\"column\" + 0.010*\"modul\" + 0.010*\"output\" + 0.010*\"loss\" + 0.009*\"size\" + 0.008*\"random\" + 0.008*\"numpi\" + 0.008*\"seri\" + 0.007*\"img\" + 0.007*\"label\" + 0.007*\"grad\" + 0.007*\"set\" + 0.007*\"torch\" + 0.007*\"input\" + 0.007*\"get\" + 0.006*\"array\" + 0.006*\"rang\" + 0.006*\"length\" + 0.006*\"object\" + 0.006*\"transform\" + 0.006*\"len\" + 0.005*\"dict\" + 0.005*\"name\" + 0.005*\"val\" + 0.005*\"cluster\" + 0.005*\"mask\" + 0.005*\"list\" + 0.005*\"run\" + 0.005*\"idx\" + 0.005*\"workspac\" + 0.005*\"tensor\" + 0.004*\"zero\" + 0.004*\"predict\" + 0.004*\"actual\" + 0.004*\"check\" + 0.004*\"class\" + 0.004*\"max\" + 0.004*\"sum\" + 0.004*\"map\" + 0.004*\"type\" + 0.004*\"col\" + 0.004*\"measur\" + 0.004*\"one\" + 0.004*\"model\" + 0.003*\"add\" + 0.003*\"start\" + 0.003*\"exp\" + 0.003*\"date\" + 0.003*\"nan\" + 0.003*\"meta\" + 0.003*\"comput\" + 0.003*\"indic\" + 0.003*\"schedul\" + 0.003*\"datetim\" + 0.003*\"axi\" + 0.003*\"float64\" + 0.003*\"cellprofil\" + 0.003*\"crop\" + 0.003*\"intersect\" + 0.003*\"seed\" + 0.003*\"param\" + 0.003*\"creat\" + 0.003*\"float32\" + 0.003*\"isinst\" + 0.003*\"time\" + 0.003*\"astyp\" + 0.002*\"period\" + 0.002*\"origin\" + 0.002*\"mean\" + 0.002*\"dim\" + 0.002*\"copi\" + 0.002*\"epoch\" + 0.002*\"key\" + 0.002*\"make\" + 0.002*\"float\" + 0.002*\"modifi\" + 0.002*\"count\" + 0.002*\"freq\" + 0.002*\"end\" + 0.002*\"tick\" + 0.002*\"group\" + 0.002*\"arg1\" + 0.002*\"loc\" + 0.002*\"core\" + 0.002*\"num\" + 0.002*\"extern\" + 0.002*\"cuda\" + 0.002*\"clean\"'), (5, '0.028*\"metric\" + 0.024*\"var\" + 0.019*\"tensor\" + 0.015*\"dist\" + 0.015*\"name\" + 0.015*\"equal\" + 0.011*\"pred\" + 0.011*\"conv\" + 0.011*\"torch\" + 0.010*\"len\" + 0.010*\"loss\" + 0.010*\"get\" + 0.009*\"type\" + 0.008*\"mean\" + 0.008*\"target\" + 0.008*\"distanc\" + 0.008*\"set\" + 0.008*\"env\" + 0.008*\"head\" + 0.008*\"config\" + 0.008*\"evalu\" + 0.007*\"expect\" + 0.007*\"queri\" + 0.006*\"attribut\" + 0.006*\"num\" + 0.006*\"tolist\" + 0.005*\"valu\" + 0.005*\"global\" + 0.005*\"approx\" + 0.005*\"arg\" + 0.005*\"timestamp\" + 0.005*\"predict\" + 0.005*\"key\" + 0.005*\"error\" + 0.005*\"jit\" + 0.005*\"record\" + 0.005*\"filter\" + 0.004*\"enum\" + 0.004*\"size\" + 0.004*\"true\" + 0.004*\"dict\" + 0.004*\"mask\" + 0.004*\"actual\" + 0.004*\"result\" + 0.004*\"par\" + 0.004*\"adata\" + 0.004*\"server\" + 0.004*\"rate\" + 0.004*\"devic\" + 0.004*\"helper\" + 0.004*\"real\" + 0.004*\"app\" + 0.004*\"none\" + 0.004*\"proto\" + 0.004*\"util\" + 0.003*\"ha\" + 0.003*\"spar\" + 0.003*\"proba\" + 0.003*\"support\" + 0.003*\"param\" + 0.003*\"step\" + 0.003*\"per\" + 0.003*\"gene\" + 0.003*\"object\" + 0.003*\"data\" + 0.003*\"make\" + 0.003*\"func\" + 0.003*\"sourc\" + 0.003*\"age\" + 0.003*\"male\" + 0.003*\"squar\" + 0.003*\"default\" + 0.003*\"root\" + 0.003*\"sensor\" + 0.003*\"feat\" + 0.003*\"variabl\" + 0.003*\"femal\" + 0.003*\"model\" + 0.003*\"edg\" + 0.003*\"mdl\" + 0.003*\"binari\" + 0.003*\"placehold\" + 0.003*\"fraction\" + 0.003*\"spark\" + 0.003*\"pytest\" + 0.003*\"ratio\" + 0.003*\"out1\" + 0.003*\"surviv\" + 0.003*\"write\" + 0.003*\"class\" + 0.003*\"merg\" + 0.003*\"attent\" + 0.003*\"index\" + 0.003*\"long\" + 0.003*\"mech\" + 0.003*\"forward\" + 0.003*\"pclass\" + 0.003*\"sex\" + 0.003*\"algo\" + 0.003*\"base\"'), (6, '0.021*\"pipelin\" + 0.021*\"run\" + 0.019*\"messag\" + 0.017*\"type\" + 0.014*\"error\" + 0.013*\"model\" + 0.013*\"foo\" + 0.013*\"token\" + 0.012*\"result\" + 0.012*\"valu\" + 0.011*\"compon\" + 0.011*\"float\" + 0.010*\"instanc\" + 0.010*\"name\" + 0.010*\"context\" + 0.010*\"path\" + 0.010*\"bar\" + 0.009*\"rais\" + 0.008*\"log\" + 0.008*\"get\" + 0.008*\"solid\" + 0.007*\"mock\" + 0.007*\"set\" + 0.007*\"execut\" + 0.007*\"spec\" + 0.007*\"paramet\" + 0.006*\"dataset\" + 0.006*\"equal\" + 0.006*\"warn\" + 0.006*\"data\" + 0.006*\"invalid\" + 0.006*\"output\" + 0.006*\"dialogu\" + 0.005*\"base\" + 0.005*\"pytest\" + 0.005*\"resourc\" + 0.005*\"dagster\" + 0.005*\"dict\" + 0.005*\"int\" + 0.005*\"method\" + 0.005*\"rule\" + 0.005*\"logger\" + 0.005*\"default\" + 0.005*\"executor\" + 0.005*\"str\" + 0.004*\"valid\" + 0.004*\"user\" + 0.004*\"fake\" + 0.004*\"except\" + 0.004*\"address\" + 0.004*\"handl\" + 0.004*\"string\" + 0.004*\"len\" + 0.003*\"call\" + 0.003*\"version\" + 0.003*\"text\" + 0.003*\"perform\" + 0.003*\"specif\" + 0.003*\"json\" + 0.003*\"launcher\" + 0.003*\"fail\" + 0.003*\"code\" + 0.003*\"job\" + 0.003*\"connect\" + 0.003*\"dummi\" + 0.003*\"artifact\" + 0.003*\"public\" + 0.003*\"def\" + 0.003*\"event\" + 0.003*\"descript\" + 0.003*\"config\" + 0.003*\"file\" + 0.003*\"modul\" + 0.003*\"repositori\" + 0.003*\"expect\" + 0.003*\"check\" + 0.003*\"creat\" + 0.003*\"captur\" + 0.003*\"view\" + 0.003*\"integ\" + 0.003*\"time\" + 0.003*\"info\" + 0.003*\"thi\" + 0.003*\"build\" + 0.003*\"implement\" + 0.003*\"schema\" + 0.003*\"repo\" + 0.003*\"annot\" + 0.003*\"record\" + 0.003*\"return\" + 0.002*\"class\" + 0.002*\"envelop\" + 0.002*\"uri\" + 0.002*\"requir\" + 0.002*\"baz\" + 0.002*\"load\" + 0.002*\"incom\" + 0.002*\"obj\" + 0.002*\"failur\" + 0.002*\"exc\"'), (7, '0.026*\"data\" + 0.015*\"get\" + 0.015*\"name\" + 0.012*\"factor\" + 0.011*\"key\" + 0.011*\"equal\" + 0.010*\"string\" + 0.010*\"list\" + 0.010*\"path\" + 0.009*\"set\" + 0.009*\"config\" + 0.009*\"agent\" + 0.008*\"valu\" + 0.008*\"file\" + 0.008*\"cach\" + 0.008*\"scale\" + 0.008*\"domain\" + 0.007*\"str\" + 0.007*\"dict\" + 0.006*\"array\" + 0.006*\"cmd\" + 0.006*\"encod\" + 0.006*\"obj\" + 0.006*\"label\" + 0.006*\"dir\" + 0.006*\"arr\" + 0.006*\"unit\" + 0.006*\"function\" + 0.006*\"csv\" + 0.005*\"sklearn\" + 0.005*\"sql\" + 0.005*\"sqrt\" + 0.005*\"process\" + 0.005*\"dtype\" + 0.005*\"tabl\" + 0.005*\"check\" + 0.005*\"datetim\" + 0.005*\"default\" + 0.005*\"date\" + 0.005*\"len\" + 0.005*\"flow\" + 0.005*\"iloc\" + 0.005*\"locat\" + 0.004*\"featur\" + 0.004*\"byte\" + 0.004*\"rang\" + 0.004*\"item\" + 0.004*\"one\" + 0.004*\"format\" + 0.004*\"run\" + 0.004*\"replac\" + 0.004*\"model\" + 0.004*\"next\" + 0.004*\"sourc\" + 0.004*\"tmpdir\" + 0.003*\"question\" + 0.003*\"class\" + 0.003*\"nest\" + 0.003*\"engin\" + 0.003*\"cat\" + 0.003*\"xml\" + 0.003*\"creat\" + 0.003*\"iter\" + 0.003*\"join\" + 0.003*\"connect\" + 0.003*\"context\" + 0.003*\"pickl\" + 0.003*\"util\" + 0.003*\"read\" + 0.003*\"paramet\" + 0.003*\"cfg\" + 0.003*\"axe\" + 0.003*\"load\" + 0.003*\"add\" + 0.003*\"timestamp\" + 0.003*\"roi\" + 0.003*\"span\" + 0.003*\"isinst\" + 0.003*\"event\" + 0.003*\"seller\" + 0.003*\"boost\" + 0.003*\"map\" + 0.003*\"search\" + 0.003*\"tvm\" + 0.003*\"aea\" + 0.003*\"time\" + 0.003*\"copi\" + 0.003*\"new\" + 0.003*\"type\" + 0.003*\"annot\" + 0.003*\"includ\" + 0.003*\"signal\" + 0.003*\"fetchai\" + 0.002*\"2020\" + 0.002*\"skill\" + 0.002*\"theme\" + 0.002*\"gener\" + 0.002*\"almost\" + 0.002*\"method\" + 0.002*\"select\"'), (8, '0.057*\"state\" + 0.044*\"ha\" + 0.033*\"mock\" + 0.028*\"async\" + 0.028*\"get\" + 0.020*\"name\" + 0.019*\"task\" + 0.018*\"call\" + 0.015*\"entiti\" + 0.013*\"entri\" + 0.012*\"floor\" + 0.011*\"attribut\" + 0.011*\"block\" + 0.010*\"data\" + 0.009*\"valu\" + 0.009*\"updat\" + 0.009*\"set\" + 0.009*\"copi\" + 0.008*\"setup\" + 0.008*\"devic\" + 0.007*\"done\" + 0.007*\"sensor\" + 0.007*\"compon\" + 0.007*\"till\" + 0.007*\"config\" + 0.007*\"comp\" + 0.006*\"event\" + 0.006*\"titan\" + 0.006*\"func\" + 0.005*\"servic\" + 0.005*\"result\" + 0.005*\"unit\" + 0.005*\"len\" + 0.005*\"client\" + 0.005*\"mode\" + 0.005*\"offens\" + 0.004*\"patch\" + 0.004*\"topic\" + 0.004*\"prop\" + 0.004*\"isinst\" + 0.004*\"pytest\" + 0.004*\"registri\" + 0.004*\"arg\" + 0.004*\"model\" + 0.004*\"chang\" + 0.004*\"player\" + 0.004*\"properti\" + 0.004*\"mqtt\" + 0.004*\"time\" + 0.004*\"light\" + 0.004*\"cost\" + 0.004*\"support\" + 0.004*\"add\" + 0.004*\"medium\" + 0.004*\"valid\" + 0.003*\"flow\" + 0.003*\"control\" + 0.003*\"approx\" + 0.003*\"type\" + 0.003*\"context\" + 0.003*\"activ\" + 0.003*\"new\" + 0.003*\"phase\" + 0.003*\"node\" + 0.003*\"binari\" + 0.003*\"var\" + 0.003*\"publish\" + 0.003*\"page\" + 0.003*\"platform\" + 0.003*\"input\" + 0.003*\"max\" + 0.003*\"turn\" + 0.003*\"object\" + 0.003*\"statu\" + 0.002*\"onc\" + 0.002*\"receiv\" + 0.002*\"roll\" + 0.002*\"uniqu\" + 0.002*\"subtask\" + 0.002*\"return\" + 0.002*\"volum\" + 0.002*\"homeassist\" + 0.002*\"fire\" + 0.002*\"command\" + 0.002*\"target\" + 0.002*\"min\" + 0.002*\"frac\" + 0.002*\"init\" + 0.002*\"cover\" + 0.002*\"desc\" + 0.002*\"half\" + 0.002*\"item\" + 0.002*\"mol\" + 0.002*\"remot\" + 0.002*\"expect\" + 0.002*\"text\" + 0.002*\"util\" + 0.002*\"class\" + 0.002*\"integr\" + 0.002*\"slider\"'), (9, '0.027*\"error\" + 0.024*\"rais\" + 0.017*\"valu\" + 0.013*\"get\" + 0.013*\"pytest\" + 0.012*\"patch\" + 0.009*\"equal\" + 0.009*\"model\" + 0.008*\"shape\" + 0.008*\"dict\" + 0.008*\"torch\" + 0.008*\"predict\" + 0.008*\"print\" + 0.008*\"case\" + 0.007*\"true\" + 0.007*\"optim\" + 0.007*\"json\" + 0.007*\"matrix\" + 0.006*\"plot\" + 0.006*\"decod\" + 0.006*\"expr\" + 0.006*\"locu\" + 0.006*\"name\" + 0.006*\"load\" + 0.006*\"refer\" + 0.005*\"train\" + 0.005*\"parser\" + 0.005*\"learn\" + 0.005*\"modul\" + 0.005*\"sub\" + 0.005*\"transcript\" + 0.005*\"batch\" + 0.005*\"foo\" + 0.005*\"add\" + 0.005*\"dup\" + 0.005*\"fals\" + 0.005*\"delay\" + 0.005*\"transform\" + 0.005*\"auth\" + 0.005*\"hook\" + 0.004*\"max\" + 0.004*\"fit\" + 0.004*\"arm\" + 0.004*\"evok\" + 0.004*\"mnist\" + 0.004*\"method\" + 0.004*\"remov\" + 0.004*\"one\" + 0.004*\"call\" + 0.004*\"translat\" + 0.004*\"tensor\" + 0.004*\"mock\" + 0.004*\"str\" + 0.004*\"score\" + 0.004*\"layer\" + 0.004*\"epoch\" + 0.004*\"file\" + 0.004*\"classifi\" + 0.004*\"predic\" + 0.004*\"rang\" + 0.004*\"time\" + 0.004*\"cfg\" + 0.003*\"check\" + 0.003*\"updat\" + 0.003*\"loader\" + 0.003*\"random\" + 0.003*\"callback\" + 0.003*\"runner\" + 0.003*\"paramet\" + 0.003*\"conv\" + 0.003*\"size\" + 0.003*\"weight\" + 0.003*\"step\" + 0.003*\"model1\" + 0.003*\"arg\" + 0.003*\"auto\" + 0.003*\"interact\" + 0.003*\"tvm\" + 0.003*\"nan\" + 0.003*\"except\" + 0.003*\"init\" + 0.003*\"valid\" + 0.003*\"uncertainti\" + 0.003*\"imag\" + 0.003*\"conf\" + 0.003*\"isinst\" + 0.003*\"mab\" + 0.003*\"log\" + 0.003*\"rate\" + 0.003*\"width\" + 0.003*\"match\" + 0.003*\"net\" + 0.003*\"len\" + 0.003*\"pyo\" + 0.003*\"noisi\" + 0.003*\"reshap\" + 0.003*\"dim\" + 0.003*\"logger\" + 0.003*\"gener\" + 0.003*\"expect\"')]\n"
          ]
        }
      ]
    },
    {
      "cell_type": "code",
      "source": [
        "# printing the topic associations with the documents\n",
        "count = 0\n",
        "for i in ldamodel[doc_term_matrix]:\n",
        "    print(\"doc : \",count,i)\n",
        "    count += 1"
      ],
      "metadata": {
        "id": "A0Mr0sVbXPWr"
      },
      "execution_count": null,
      "outputs": []
    },
    {
      "cell_type": "code",
      "source": [
        "# saving the topic associations with the documents to .csv\n",
        "import csv\n",
        "\n",
        "header = ['NameOfDoc', 'WeightPerTopic']\n",
        "\n",
        "with open('/content/drive/MyDrive/lda_silhouette/weight_per_topic.csv', 'w', encoding='UTF8', newline='') as f:\n",
        "    writer = csv.writer(f)\n",
        "\n",
        "    # write the header\n",
        "    writer.writerow(header)\n",
        "\n",
        "    count = 0\n",
        "    for i in ldamodel[doc_term_matrix]:\n",
        "        #print(\"doc : \",count,i)\n",
        "        # write the data\n",
        "        writer.writerow(i)\n",
        "        count += 1"
      ],
      "metadata": {
        "id": "GEq_1nH8b0p2"
      },
      "execution_count": 153,
      "outputs": []
    },
    {
      "cell_type": "code",
      "source": [
        "import os\n",
        "import pandas as pd\n",
        "\n",
        "dirpath_= '/content/drive/MyDrive/lda_silhouette/Names_comma/'\n",
        "output = '/content/drive/MyDrive/lda_silhouette/name.csv'\n",
        "csvout_lst = []\n",
        "files_= [os.path.join(dirpath_, fname) for fname in os.listdir(dirpath_)]\n",
        "\n",
        "for filename in sorted(files_):\n",
        "    data = pd.read_csv(filename, index_col=0, header=None)\n",
        "    csvout_lst.append(data)\n",
        "#csvout_lst.index\n",
        "#print(csvout_lst)\n",
        "#print (np.arange(len(csvout_lst.index)))\n",
        "pd.concat(csvout_lst).to_csv(output, index=True)"
      ],
      "metadata": {
        "id": "sPG2s0NwoaZJ"
      },
      "execution_count": 127,
      "outputs": []
    },
    {
      "cell_type": "code",
      "source": [
        "from pandas import read_csv\n",
        "df = read_csv('/content/drive/MyDrive/lda_silhouette/name.csv')\n",
        "corpus = df.values\n",
        "print(corpus)"
      ],
      "metadata": {
        "colab": {
          "base_uri": "https://localhost:8080/"
        },
        "id": "7YA6P3CSkJ2I",
        "outputId": "280e8522-e54a-41de-8939-6bacdaa6cbf4"
      },
      "execution_count": 128,
      "outputs": [
        {
          "output_type": "stream",
          "name": "stdout",
          "text": [
            "[['rmse' ' correct' ' pred' ... nan nan nan]\n",
            " ['one' ' true' ' posit' ... nan nan nan]\n",
            " ['standard' ' import' ' still' ... nan nan nan]\n",
            " ...\n",
            " ['config' ' name' ' space' ... nan nan nan]\n",
            " ['set' ' configur' ' yaml' ... nan nan nan]\n",
            " ['set' ' compon' ' setup' ... nan nan nan]]\n"
          ]
        },
        {
          "output_type": "stream",
          "name": "stderr",
          "text": [
            "/usr/local/lib/python3.7/dist-packages/IPython/core/interactiveshell.py:2882: DtypeWarning: Columns (616,617,618,619,620,621,622,623,624,625,626,627,628,629,630,631,632,633,634,635,636,637,638,639,640,641,642,643,644,645,646,647,648,649,650,651,652,653,654,655,656,657,658,659,660,661,662,663,664,665,666,667) have mixed types.Specify dtype option on import or set low_memory=False.\n",
            "  exec(code_obj, self.user_global_ns, self.user_ns)\n"
          ]
        }
      ]
    },
    {
      "cell_type": "code",
      "source": [
        "corpus = []\n",
        "corpus = texts_file.read()"
      ],
      "metadata": {
        "id": "AaG3bX9YSKXn"
      },
      "execution_count": null,
      "outputs": []
    },
    {
      "cell_type": "code",
      "source": [
        "corpus.shape"
      ],
      "metadata": {
        "colab": {
          "base_uri": "https://localhost:8080/"
        },
        "id": "eVN7ZUaIkJ5r",
        "outputId": "3c6ca917-bb96-4273-f5b4-ddfd001d1c7d"
      },
      "execution_count": 129,
      "outputs": [
        {
          "output_type": "execute_result",
          "data": {
            "text/plain": [
              "(1999, 668)"
            ]
          },
          "metadata": {},
          "execution_count": 129
        }
      ]
    },
    {
      "cell_type": "code",
      "source": [
        "# Creating the term dictionary of our courpus that is of all the words (Sepcific to Genism syntax perspective), \n",
        "# where every unique term is assigned an index. \n",
        "\n",
        "dict_ = corpora.Dictionary(corpus)\n",
        "\n",
        "print(dict_)"
      ],
      "metadata": {
        "colab": {
          "base_uri": "https://localhost:8080/",
          "height": 380
        },
        "id": "Jx73XJcPFCX_",
        "outputId": "090bcaab-0fa2-42fa-ba64-4ca21f0ac280"
      },
      "execution_count": 130,
      "outputs": [
        {
          "output_type": "error",
          "ename": "TypeError",
          "evalue": "ignored",
          "traceback": [
            "\u001b[0;31m---------------------------------------------------------------------------\u001b[0m",
            "\u001b[0;31mTypeError\u001b[0m                                 Traceback (most recent call last)",
            "\u001b[0;32m<ipython-input-130-7d481cd72044>\u001b[0m in \u001b[0;36m<module>\u001b[0;34m()\u001b[0m\n\u001b[1;32m      2\u001b[0m \u001b[0;31m# where every unique term is assigned an index.\u001b[0m\u001b[0;34m\u001b[0m\u001b[0;34m\u001b[0m\u001b[0;34m\u001b[0m\u001b[0m\n\u001b[1;32m      3\u001b[0m \u001b[0;34m\u001b[0m\u001b[0m\n\u001b[0;32m----> 4\u001b[0;31m \u001b[0mdict_\u001b[0m \u001b[0;34m=\u001b[0m \u001b[0mcorpora\u001b[0m\u001b[0;34m.\u001b[0m\u001b[0mDictionary\u001b[0m\u001b[0;34m(\u001b[0m\u001b[0mcorpus\u001b[0m\u001b[0;34m)\u001b[0m\u001b[0;34m\u001b[0m\u001b[0;34m\u001b[0m\u001b[0m\n\u001b[0m\u001b[1;32m      5\u001b[0m \u001b[0;34m\u001b[0m\u001b[0m\n\u001b[1;32m      6\u001b[0m \u001b[0mprint\u001b[0m\u001b[0;34m(\u001b[0m\u001b[0mdict_\u001b[0m\u001b[0;34m)\u001b[0m\u001b[0;34m\u001b[0m\u001b[0;34m\u001b[0m\u001b[0m\n",
            "\u001b[0;32m/usr/local/lib/python3.7/dist-packages/gensim/corpora/dictionary.py\u001b[0m in \u001b[0;36m__init__\u001b[0;34m(self, documents, prune_at)\u001b[0m\n\u001b[1;32m     81\u001b[0m \u001b[0;34m\u001b[0m\u001b[0m\n\u001b[1;32m     82\u001b[0m         \u001b[0;32mif\u001b[0m \u001b[0mdocuments\u001b[0m \u001b[0;32mis\u001b[0m \u001b[0;32mnot\u001b[0m \u001b[0;32mNone\u001b[0m\u001b[0;34m:\u001b[0m\u001b[0;34m\u001b[0m\u001b[0;34m\u001b[0m\u001b[0m\n\u001b[0;32m---> 83\u001b[0;31m             \u001b[0mself\u001b[0m\u001b[0;34m.\u001b[0m\u001b[0madd_documents\u001b[0m\u001b[0;34m(\u001b[0m\u001b[0mdocuments\u001b[0m\u001b[0;34m,\u001b[0m \u001b[0mprune_at\u001b[0m\u001b[0;34m=\u001b[0m\u001b[0mprune_at\u001b[0m\u001b[0;34m)\u001b[0m\u001b[0;34m\u001b[0m\u001b[0;34m\u001b[0m\u001b[0m\n\u001b[0m\u001b[1;32m     84\u001b[0m \u001b[0;34m\u001b[0m\u001b[0m\n\u001b[1;32m     85\u001b[0m     \u001b[0;32mdef\u001b[0m \u001b[0m__getitem__\u001b[0m\u001b[0;34m(\u001b[0m\u001b[0mself\u001b[0m\u001b[0;34m,\u001b[0m \u001b[0mtokenid\u001b[0m\u001b[0;34m)\u001b[0m\u001b[0;34m:\u001b[0m\u001b[0;34m\u001b[0m\u001b[0;34m\u001b[0m\u001b[0m\n",
            "\u001b[0;32m/usr/local/lib/python3.7/dist-packages/gensim/corpora/dictionary.py\u001b[0m in \u001b[0;36madd_documents\u001b[0;34m(self, documents, prune_at)\u001b[0m\n\u001b[1;32m    200\u001b[0m \u001b[0;34m\u001b[0m\u001b[0m\n\u001b[1;32m    201\u001b[0m             \u001b[0;31m# update Dictionary with the document\u001b[0m\u001b[0;34m\u001b[0m\u001b[0;34m\u001b[0m\u001b[0;34m\u001b[0m\u001b[0m\n\u001b[0;32m--> 202\u001b[0;31m             \u001b[0mself\u001b[0m\u001b[0;34m.\u001b[0m\u001b[0mdoc2bow\u001b[0m\u001b[0;34m(\u001b[0m\u001b[0mdocument\u001b[0m\u001b[0;34m,\u001b[0m \u001b[0mallow_update\u001b[0m\u001b[0;34m=\u001b[0m\u001b[0;32mTrue\u001b[0m\u001b[0;34m)\u001b[0m  \u001b[0;31m# ignore the result, here we only care about updating token ids\u001b[0m\u001b[0;34m\u001b[0m\u001b[0;34m\u001b[0m\u001b[0m\n\u001b[0m\u001b[1;32m    203\u001b[0m \u001b[0;34m\u001b[0m\u001b[0m\n\u001b[1;32m    204\u001b[0m         logger.info(\n",
            "\u001b[0;32m/usr/local/lib/python3.7/dist-packages/gensim/corpora/dictionary.py\u001b[0m in \u001b[0;36mdoc2bow\u001b[0;34m(self, document, allow_update, return_missing)\u001b[0m\n\u001b[1;32m    243\u001b[0m         \u001b[0mcounter\u001b[0m \u001b[0;34m=\u001b[0m \u001b[0mdefaultdict\u001b[0m\u001b[0;34m(\u001b[0m\u001b[0mint\u001b[0m\u001b[0;34m)\u001b[0m\u001b[0;34m\u001b[0m\u001b[0;34m\u001b[0m\u001b[0m\n\u001b[1;32m    244\u001b[0m         \u001b[0;32mfor\u001b[0m \u001b[0mw\u001b[0m \u001b[0;32min\u001b[0m \u001b[0mdocument\u001b[0m\u001b[0;34m:\u001b[0m\u001b[0;34m\u001b[0m\u001b[0;34m\u001b[0m\u001b[0m\n\u001b[0;32m--> 245\u001b[0;31m             \u001b[0mcounter\u001b[0m\u001b[0;34m[\u001b[0m\u001b[0mw\u001b[0m \u001b[0;32mif\u001b[0m \u001b[0misinstance\u001b[0m\u001b[0;34m(\u001b[0m\u001b[0mw\u001b[0m\u001b[0;34m,\u001b[0m \u001b[0municode\u001b[0m\u001b[0;34m)\u001b[0m \u001b[0;32melse\u001b[0m \u001b[0municode\u001b[0m\u001b[0;34m(\u001b[0m\u001b[0mw\u001b[0m\u001b[0;34m,\u001b[0m \u001b[0;34m'utf-8'\u001b[0m\u001b[0;34m)\u001b[0m\u001b[0;34m]\u001b[0m \u001b[0;34m+=\u001b[0m \u001b[0;36m1\u001b[0m\u001b[0;34m\u001b[0m\u001b[0;34m\u001b[0m\u001b[0m\n\u001b[0m\u001b[1;32m    246\u001b[0m \u001b[0;34m\u001b[0m\u001b[0m\n\u001b[1;32m    247\u001b[0m         \u001b[0mtoken2id\u001b[0m \u001b[0;34m=\u001b[0m \u001b[0mself\u001b[0m\u001b[0;34m.\u001b[0m\u001b[0mtoken2id\u001b[0m\u001b[0;34m\u001b[0m\u001b[0;34m\u001b[0m\u001b[0m\n",
            "\u001b[0;31mTypeError\u001b[0m: decoding to str: need a bytes-like object, float found"
          ]
        }
      ]
    },
    {
      "cell_type": "code",
      "source": [
        "for i in dict_.values():\n",
        "    print(i)"
      ],
      "metadata": {
        "id": "YzDxUqTZFqt5"
      },
      "execution_count": null,
      "outputs": []
    },
    {
      "cell_type": "code",
      "source": [
        "# Converting list of documents (corpus) into Document Term Matrix using the dictionary \n",
        "doc_term_matrix = [dict_.doc2bow(i) for i in corpus]\n",
        "doc_term_matrix"
      ],
      "metadata": {
        "id": "4VkB7KwCF4k-"
      },
      "execution_count": null,
      "outputs": []
    },
    {
      "cell_type": "code",
      "source": [
        "# Creating the object for LDA model using gensim library\n",
        "\n",
        "Lda = gensim.models.ldamodel.LdaModel"
      ],
      "metadata": {
        "id": "WA2slHnoGBdM"
      },
      "execution_count": 80,
      "outputs": []
    },
    {
      "cell_type": "code",
      "source": [
        "# Running and Training LDA model on the document term matrix.\n",
        "\n",
        "ldamodel = Lda(doc_term_matrix, num_topics=10, id2word = dict_, passes=5, alpha=0.1, eta=0.0001, random_state=30, eval_every=None)"
      ],
      "metadata": {
        "colab": {
          "base_uri": "https://localhost:8080/"
        },
        "id": "Q7E5CjoxGfZ9",
        "outputId": "41856c03-5ea1-45d1-edce-c1a22d0dd22c"
      },
      "execution_count": 81,
      "outputs": [
        {
          "output_type": "stream",
          "name": "stderr",
          "text": [
            "/usr/local/lib/python3.7/dist-packages/gensim/models/ldamodel.py:1023: RuntimeWarning: divide by zero encountered in log\n",
            "  diff = np.log(self.expElogbeta)\n"
          ]
        }
      ]
    },
    {
      "cell_type": "code",
      "source": [
        "# Prints the topics with the indexes: 0,1,2 :\n",
        "\n",
        "ldamodel.print_topics(num_topics=10)\n",
        "\n",
        "# we need to manually check whethere the topics are different from one another or not\n",
        "\n",
        "# saving the topics to .csv\n",
        "import csv\n",
        "\n",
        "header = ['WordsPerTopic']\n",
        "\n",
        "with open('/content/drive/MyDrive/lda_silhouette/words_per_topic.csv', 'w', encoding='UTF8', newline='') as f:\n",
        "    writer = csv.writer(f)\n",
        "\n",
        "    # write the header\n",
        "    #writer.writerow(header)\n",
        "\n",
        "    count = 0\n",
        "    for i in ldamodel[doc_term_matrix]:\n",
        "        #print(\"doc : \",count,i)\n",
        "        # write the data\n",
        "        writer.writerow(i)\n",
        "        count += 1"
      ],
      "metadata": {
        "id": "aQFoqyUDG8Ke"
      },
      "execution_count": 84,
      "outputs": []
    },
    {
      "cell_type": "code",
      "source": [
        "print(ldamodel.print_topics(num_topics=6, num_words=5))\n",
        "\n",
        "# num_topics mean: how many topics want to extract \n",
        "# num_words: the number of words that want per topic"
      ],
      "metadata": {
        "colab": {
          "base_uri": "https://localhost:8080/"
        },
        "id": "KEc-lnaaHE2X",
        "outputId": "79506f35-c0dc-48d5-cd4c-fbea152f7c63"
      },
      "execution_count": null,
      "outputs": [
        {
          "output_type": "stream",
          "name": "stdout",
          "text": [
            "[(9, '0.005*\"gener random data predict without fit random normal size rais fit error gaussian cluster min compon predict\" + 0.005*\"mani lap complet date extract question question token token token question file tabl question context tabl question context read file file question token number entiti tabl question context get entiti question number entiti\" + 0.005*\"coverag semant parser experi json model train save load ensur model train save load\" + 0.005*\"model preserv token loss forward loss backward loss embed token embed mask batch weight embed loss forward loss backward loss forward pass run correctli train tensor dataset tensor dict result model train tensor set result embed result tupl embed shape expect embed shape loss result item forward loss result item backward loss result item almost equal loss forward loss backward loss decim\" + 0.005*\"sympi physic quantum cartesian sympi physic quantum cartesian arg\"'), (8, '0.005*\"given valid credenti run integr modul use valid credenti email password valid error rais command modul get task list human readabl com usernam identifi password password connect credenti mocker mocker patch object demisto return valu mocker patch object client return valu client client base url api param credenti client modul command\" + 0.005*\"offset lead zero expect result offset result expect\" + 0.005*\"print msg miss requir posit argument msg wrong number param paramet type error rais type error new print msg rais type error old oldfu print msg equal str new except equal str new except str old except\" + 0.005*\"note sum equal use use equal spars turn use allclos determin equal coeff refer oper abov match basi need tini precis chang ani reason map qubit oper driver hdf5 hdf5 driver second quantiz electron energi map driver driver hdf5 input get resourc path driver result driver run fermion driver result second mapper mapper qubit mapper map fermion equal qubit mapper\" + 0.005*\"issu symbol symbol product doit sub doit ration\"'), (2, '0.010*\"evalu result evalu result\" + 0.010*\"crop rectangl numpi input imag astyp numpi float32 expect imag input imag workspac modul make workspac input imag modul shape valu cellprofil modul crop modul horizont limit set valu modul vertic limit set valu modul remov row column valu cellprofil modul crop modul run workspac output imag workspac imag set get imag numpi output imag pixel data expect imag\" + 0.010*\"sim verifi request silent veriloggen reset simtyp request config getopt rslt onnx matrix conv2d run act shape weight shape act dtype weight dtype stride pad batchnorm act func disabl fusion par ich par och par col par row och chunk size axi datawidth silent filenam simtyp simtyp outputfil path splitext path basenam file verifi rslt rslt splitlin verifi rslt\" + 0.005*\"min min max max abc jpg pars detect sourc object array transpos detect array transpos object class label object difficult object group verifi label detect class label detect score featur field exampl field sourc byte featur sourc field exampl field object bbox float featur object tolist field exampl field object bbox float featur object tolist field exampl field object bbox float featur object tolist field exampl field object bbox xmax float featur object tolist field exampl field detect bbox float featur detect tolist field exampl field detect bbox float featur detect tolist field exampl field detect bbox float featur detect tolist field exampl field detect bbox xmax float featur detect tolist field exampl field detect class label int64 featur detect class label field exampl field detect score float featur detect score exampl train exampl featur train featur featur featur parser exampl parser exampl detect parser result dict parser pars exampl none result dict featur field exampl field object class label int64 featur object class label featur field exampl field object difficult int64 featur object difficult exampl train exampl featur train featur featur featur result dict parser pars exampl none result dict equal sourc result dict field detect result field key almost equal object result dict field input data field groundtruth box almost equal detect result dict field detect result field detect box almost equal detect score result dict field detect result field detect score almost equal detect class label result dict field detect result field detect class almost equal object difficult result dict field input data field groundtruth difficult almost equal object class label result dict field input data field groundtruth class parser exampl parser exampl detect parser featur field exampl field object group int64 featur object group exampl train exampl featur train featur featur featur result dict parser pars exampl none result dict equal object group result dict field input data field groundtruth group featur field exampl field imag class label int64 featur verifi label exampl train exampl featur train featur featur featur result dict parser pars exampl none result dict equal verifi label result dict field input data field verifi label\" + 0.005*\"limit offset dataset limit offset dataset histori content type dataset collect histori content type dataset limit offset histori content type dataset dataset search dataset hda dataset popul new dataset histori payload index respons get payload json len index respons index respons hda hdca dataset collect popul creat list histori histori content json index payload index respons get index payload json len index respons index respons hdca index respons index respons hda index respons index payload index respons get index payload json index respons hda\"'), (4, '0.010*\"config config tester run common\" + 0.005*\"miss name index categori column construct expect veri specif multiindex gender femal countri gender gender categori countri gender femal countri gender gender gender categori gender valu count index name categori column data frame astyp result groupbi valu count expect data frame column expect expect astyp expect multi index frame expect expect seri index expect name seri equal result expect\" + 0.005*\"mock exist pod state mock pend state creation mock run state pend mock succeed state mock success pod creation pend run succeed launcher namespac bodi api version kind pod metadata name 123 123 owner refer api version kind workflow name uid uid spec restart polici never contain name main imag command arg input artifact servic account servic account name launch load cluster succeed mock core api mock config mock publish mock insid kfp mock kfp namespac mock publish return valu publish execut return valu core api mock core api return valu core api read namespac pod side effect mock launcher pod client rest api except statu mock executor pod mock executor pod mock executor pod core api creat namespac pod return valu client pod core api read namespac pod log return valu stream return valu context creat launcher context context launch equal core api read namespac pod call count core api creat namespac pod call onc core api read namespac pod log call onc mock kwarg core api creat namespac pod call arg equal mock kwarg pod manifest mock kwarg dict equal context uri pod manifest\" + 0.005*\"behavior sensor error render templat sensor error render templat hass caplog mock client config ext queri set queri mock make key set queri mock mock client return valu make sensor setup hass config ext queri sensor state len record record caplog record record key record msg\" + 0.005*\"pylint disabl outer name pylint disabl outer name miss confus matrix key confus matrix dict confus matrix miss check viz param confus matrix param key confus matrix param key viz param confus matrix param expect error msg key pytest rais valu error match expect error msg gener visual viz param\"'), (7, '0.018*\"packag provid custom data defin function function definit func get function definit func\" + 0.004*\"onli block one path still reach convolut conv1 gate logist sigmoid gate conv2 gate logist sigmoid gate gate logist sigmoid gate input boundari conv3 build init model add regular input boundari conv3 count equal get sourc\" + 0.004*\"issu exp exponenti solv exponenti complex finit set\" + 0.004*\"doubl asset group one asset collect found doubl asset group load file modul directli must either one repositori one job one pipelin one graph one asset collect scope found asset collect defin variabl doubl asset group path file rel path file pytest rais dagster invari violat error exc info target python file path str exc info valu\" + 0.004*\"pickl expr eval expr byte pickl dump seek pickl load\"'), (6, '0.005*\"updat switch updat hass aioclient mock switch bodi bodi setup switch hass aioclient mock get text bodi templat switch async updat switch\" + 0.005*\"take exp spars array take arr data array equal arr take exp exp spars array take arr data array equal arr take exp\" + 0.005*\"check genom load check refer track load track label track content contig start stop label url refer track label refer track dash duo app dash dash name path join app get asset url app layout html div simpl app layout dash bio rang refer dash duo start server app dash duo wait text equal track dash duo find element len track track text\" + 0.005*\"gener produc via header indent buffer printer printer printer write header result printer read result startswith\" + 0.005*\"solid def isinst solid def solid definit\"')]\n"
          ]
        }
      ]
    },
    {
      "cell_type": "code",
      "source": [
        "# printing the topic associations with the documents\n",
        "count = 0\n",
        "for i in ldamodel[doc_term_matrix]:\n",
        "    print(\"doc : \",count,i)\n",
        "    count += 1"
      ],
      "metadata": {
        "id": "CvjXvR7EHMzh"
      },
      "execution_count": null,
      "outputs": []
    },
    {
      "cell_type": "code",
      "source": [
        "# saving the topic associations with the documents to .csv\n",
        "import csv\n",
        "\n",
        "header = ['NameOfDoc', 'WeightPerTopic']\n",
        "\n",
        "with open('/content/drive/MyDrive/lda_silhouette/weight_per_topic.csv', 'w', encoding='UTF8', newline='') as f:\n",
        "    writer = csv.writer(f)\n",
        "\n",
        "    # write the header\n",
        "    #writer.writerow(header)\n",
        "\n",
        "    count = 0\n",
        "    for i in ldamodel[doc_term_matrix]:\n",
        "        #print(\"doc : \",count,i)\n",
        "        # write the data\n",
        "        writer.writerow(i)\n",
        "        count += 1"
      ],
      "metadata": {
        "id": "Mj26iuhpLAoW"
      },
      "execution_count": null,
      "outputs": []
    },
    {
      "cell_type": "code",
      "source": [
        "documents = corpus.tolist()"
      ],
      "metadata": {
        "id": "9tm5D891CXbL"
      },
      "execution_count": null,
      "outputs": []
    },
    {
      "cell_type": "code",
      "source": [
        "print(documents[5])"
      ],
      "metadata": {
        "colab": {
          "base_uri": "https://localhost:8080/"
        },
        "id": "kt-CmkT0TMrZ",
        "outputId": "693f8a21-1746-40c4-9db8-6eb221e818e3"
      },
      "execution_count": null,
      "outputs": [
        {
          "output_type": "stream",
          "name": "stdout",
          "text": [
            "['exampl txt read exampl list exampl list data exampl list path path join get temp dir gfile open exampl list path write exampl list data exampl dataset util read exampl list exampl list path list equal exampl']\n"
          ]
        }
      ]
    },
    {
      "cell_type": "code",
      "source": [
        "start = time.time()\n",
        "preprocessed_documents = [\" \".join(s) for s in documents]\n",
        "print(f\"Preprocessing time: {time.time()-start:.1f}s.\")"
      ],
      "metadata": {
        "colab": {
          "base_uri": "https://localhost:8080/"
        },
        "id": "1CMRZ-P4WIk5",
        "outputId": "a8fcd9c7-3025-402f-8cf5-3645d1fdc6e1"
      },
      "execution_count": null,
      "outputs": [
        {
          "output_type": "stream",
          "name": "stdout",
          "text": [
            "Preprocessing time: 0.0s.\n"
          ]
        }
      ]
    },
    {
      "cell_type": "code",
      "source": [
        "import nltk\n",
        "nltk.download('stopwords')\n",
        "tf_vectorizer = CountVectorizer(max_df=0.80, min_df=10, stop_words=stopwords.words('english')+['like', 'said', 'could', 'would', 'one', 'know', 'us'], max_features=1000)"
      ],
      "metadata": {
        "colab": {
          "base_uri": "https://localhost:8080/"
        },
        "id": "EdndyoQ0kJ9Y",
        "outputId": "9f5cb53f-ac00-4b86-903a-160ee8169139"
      },
      "execution_count": null,
      "outputs": [
        {
          "output_type": "stream",
          "name": "stdout",
          "text": [
            "[nltk_data] Downloading package stopwords to /root/nltk_data...\n",
            "[nltk_data]   Unzipping corpora/stopwords.zip.\n"
          ]
        }
      ]
    },
    {
      "cell_type": "code",
      "source": [
        "tf = tf_vectorizer.fit_transform(preprocessed_documents).toarray()\n"
      ],
      "metadata": {
        "id": "9bR_J65vXOUC"
      },
      "execution_count": null,
      "outputs": []
    },
    {
      "cell_type": "code",
      "source": [
        "features = tf_vectorizer.get_feature_names_out()"
      ],
      "metadata": {
        "id": "dcDjlANKkKBS"
      },
      "execution_count": null,
      "outputs": []
    },
    {
      "cell_type": "code",
      "source": [
        "tf.shape"
      ],
      "metadata": {
        "colab": {
          "base_uri": "https://localhost:8080/"
        },
        "id": "XpZrz75okKFQ",
        "outputId": "a526ef00-987b-4dcd-d991-44c3a24798ec"
      },
      "execution_count": null,
      "outputs": [
        {
          "output_type": "execute_result",
          "data": {
            "text/plain": [
              "(1999, 785)"
            ]
          },
          "metadata": {},
          "execution_count": 15
        }
      ]
    },
    {
      "cell_type": "code",
      "source": [
        "len(features)"
      ],
      "metadata": {
        "colab": {
          "base_uri": "https://localhost:8080/"
        },
        "id": "EAJbJCy6kKJe",
        "outputId": "f7d970e4-e7a5-4617-a109-b3aff8701e83"
      },
      "execution_count": null,
      "outputs": [
        {
          "output_type": "execute_result",
          "data": {
            "text/plain": [
              "785"
            ]
          },
          "metadata": {},
          "execution_count": 16
        }
      ]
    },
    {
      "cell_type": "code",
      "source": [
        "from sklearn.decomposition import LatentDirichletAllocation as LDA"
      ],
      "metadata": {
        "id": "0LUrf8TGkKNb"
      },
      "execution_count": null,
      "outputs": []
    },
    {
      "cell_type": "code",
      "source": [
        "from utils import print_topics, get_topics_top_words\n",
        "n_topics = 5\n",
        "# alpha = 1 / n_components, beta = 1 / n_components\n",
        "model = LDA(n_components=n_topics, random_state=0)\n",
        "# calculate document-to-topic matrix\n",
        "doc_topic = model.fit_transform(tf)"
      ],
      "metadata": {
        "id": "i7V_oco2kKRw"
      },
      "execution_count": null,
      "outputs": []
    },
    {
      "cell_type": "code",
      "source": [
        "from sklearn.cluster import KMeans\n",
        "\n",
        "C = 5\n",
        "random_state = 42\n",
        "clusterer = KMeans(n_clusters=C, random_state=random_state)\n",
        "cluster_labels = clusterer.fit_predict(doc_topic)"
      ],
      "metadata": {
        "id": "0jwJwTvrkKVE"
      },
      "execution_count": null,
      "outputs": []
    },
    {
      "cell_type": "code",
      "source": [
        "x, y = np.unique(cluster_labels, return_counts=True)\n",
        "plt.bar(x, y)\n",
        "plt.xticks(range(C), range(C))\n",
        "plt.title(\"Number of documents assigned to each cluster\")\n",
        "plt.xlabel(\"cluster label\")\n",
        "plt.ylabel(\"number of documents\")\n",
        "plt.show()"
      ],
      "metadata": {
        "colab": {
          "base_uri": "https://localhost:8080/",
          "height": 295
        },
        "id": "ePIfSvMTkKY1",
        "outputId": "d15477a4-9103-48eb-83cf-c9fcba18ccf6"
      },
      "execution_count": null,
      "outputs": [
        {
          "output_type": "display_data",
          "data": {
            "text/plain": [
              "<Figure size 432x288 with 1 Axes>"
            ],
            "image/png": "[encoded data removed]"
          },
          "metadata": {
            "needs_background": "light"
          }
        }
      ]
    },
    {
      "cell_type": "code",
      "source": [
        "from sklearn import metrics\n",
        "\n",
        "def plot_cluster_metrics(data, min_clusters=2, max_clusters=20, iters=10):\n",
        "    n_clusters = []\n",
        "\n",
        "    wgss_mean = [] # within group sum of squares, or inertia\n",
        "    wgss_var = [] # variance of results because it's stochastic\n",
        "\n",
        "    silhouette_mean = []\n",
        "    silhouette_var = []\n",
        "    \n",
        "    for n in range(min_clusters, max_clusters+1):\n",
        "        n_clusters.append(n)\n",
        "\n",
        "        wgss_iters = []\n",
        "        silhouette_iters = []\n",
        "\n",
        "        for i in range(iters):\n",
        "            clusterer = KMeans(n_clusters=n).fit(data)\n",
        "            wgss_iters.append(clusterer.inertia_)\n",
        "            silhouette_iters.append(metrics.silhouette_score(data,\n",
        "                                                             clusterer.labels_,\n",
        "                                                             metric='euclidean'))\n",
        "\n",
        "        wgss_mean.append(np.array(wgss_iters).mean())\n",
        "        wgss_var.append(np.array(wgss_iters).var())\n",
        "\n",
        "        silhouette_mean.append(np.array(silhouette_iters).mean())\n",
        "        silhouette_var.append(np.array(silhouette_iters).var())\n",
        "\n",
        "    wgss_mean = np.array(wgss_mean)\n",
        "    wgss_var = np.array(wgss_var)\n",
        "\n",
        "    silhouette_mean = np.array(silhouette_mean)\n",
        "    silhouette_var = np.array(silhouette_var)\n",
        "    \n",
        "    # plot every metric\n",
        "    plt.figure(figsize=(10, 10))\n",
        "    \n",
        "    plt.subplot(211)\n",
        "    plt.xticks(n_clusters)\n",
        "    plt.plot(n_clusters, silhouette_mean, alpha=1, color='red', label='silhouette')\n",
        "    plt.fill_between(n_clusters,\n",
        "                     silhouette_mean-silhouette_var,\n",
        "                     silhouette_mean+silhouette_var,\n",
        "                     alpha=0.2)\n",
        "    plt.title(\"Evaluate quality of clusters\")\n",
        "    plt.grid(True)\n",
        "    plt.legend()\n",
        "    \n",
        "    plt.subplot(212)\n",
        "    plt.xticks(n_clusters)\n",
        "    plt.plot(n_clusters, wgss_mean, alpha=1, label='inertia', color='orange')\n",
        "    plt.fill_between(n_clusters, wgss_mean-wgss_var, wgss_mean+wgss_var, alpha=0.2)\n",
        "    plt.xlabel(\"# clusters\")\n",
        "    plt.legend()\n",
        "    plt.grid(True)\n",
        "    \n",
        "    #plt.savefig(\"part-2-images/clustering-metrics.jpg\", dpi=100)\n",
        "    plt.show()\n",
        "    return\n",
        "plot_cluster_metrics(doc_topic)"
      ],
      "metadata": {
        "colab": {
          "base_uri": "https://localhost:8080/",
          "height": 621
        },
        "id": "1lW1X7DAkKcp",
        "outputId": "7cb3eca4-8c70-45d2-d471-5e77ded8514d"
      },
      "execution_count": null,
      "outputs": [
        {
          "output_type": "display_data",
          "data": {
            "text/plain": [
              "<Figure size 720x720 with 2 Axes>"
            ],
            "image/png": "[encoded data removed]"
          },
          "metadata": {
            "needs_background": "light"
          }
        }
      ]
    },
    {
      "cell_type": "code",
      "source": [
        "# adapted from: https://scikit-learn.org/stable/auto_examples/cluster/plot_kmeans_\n",
        "# silhouette_analysis.html#sphx-glr-auto-examples-cluster-plot-kmeans-silhouette-analysis-py\n",
        "\n",
        "def plot_cluster_silhouette(data, n_clusters, cluster_labels):\n",
        "    fig, ax1 = plt.subplots(1, 1)\n",
        "    fig.set_size_inches(10, 7)\n",
        "\n",
        "    # The 1st subplot is the silhouette plot\n",
        "    # The silhouette coefficient can range from -1, 1 but in this example all\n",
        "    # lie within [-0.1, 1]\n",
        "    ax1.set_xlim([-0.1, 1])\n",
        "    # The (n_clusters+1)*10 is for inserting blank space between silhouette\n",
        "    # plots of individual clusters, to demarcate them clearly.\n",
        "    ax1.set_ylim([0, len(data) + (n_clusters + 1) * 10])\n",
        "\n",
        "    # The silhouette_score gives the average value for all the samples.\n",
        "    # This gives a perspective into the density and separation of the formed\n",
        "    # clusters\n",
        "    silhouette_avg = metrics.silhouette_score(data, cluster_labels)\n",
        "\n",
        "    # Compute the silhouette scores for each sample\n",
        "    sample_silhouette_values = metrics.silhouette_samples(data, cluster_labels)\n",
        "\n",
        "    y_lower = 10\n",
        "    for i in range(n_clusters):\n",
        "        # Aggregate the silhouette scores for samples belonging to\n",
        "        # cluster i, and sort them\n",
        "        ith_cluster_silhouette_values = sample_silhouette_values[cluster_labels == i]\n",
        "\n",
        "        ith_cluster_silhouette_values.sort()\n",
        "\n",
        "        size_cluster_i = ith_cluster_silhouette_values.shape[0]\n",
        "        y_upper = y_lower + size_cluster_i\n",
        "\n",
        "        color = matplotlib.cm.nipy_spectral(float(i) / n_clusters)\n",
        "        ax1.fill_betweenx(np.arange(y_lower, y_upper), 0,\n",
        "                          ith_cluster_silhouette_values,\n",
        "                          facecolor=color,\n",
        "                          edgecolor=color,\n",
        "                          alpha=0.7)\n",
        "\n",
        "        # Label the silhouette plots with their cluster numbers at the middle\n",
        "        ax1.text(-0.05, y_lower + 0.5 * size_cluster_i, str(i))\n",
        "\n",
        "        # Compute the new y_lower for next plot\n",
        "        y_lower = y_upper + 10  # 10 for the 0 samples\n",
        "\n",
        "    ax1.set_xlabel(\"silhouette coefficient values\")\n",
        "    ax1.set_ylabel(\"cluster label\")\n",
        "\n",
        "    # The vertical line for average silhouette score of all the values\n",
        "    ax1.axvline(x=silhouette_avg, color=\"red\", linestyle=\"--\")\n",
        "\n",
        "    ax1.set_yticks([])  # Clear the yaxis labels / ticks\n",
        "    ax1.set_xticks([-0.1, 0, 0.2, 0.4, 0.6, 0.8, 1])\n",
        "\n",
        "    plt.suptitle((\"Clustering on sample data with # clusters = \"\n",
        "                  + str(n_clusters) + \"\\nAverage silhouette_score is : \"\n",
        "                  + str(silhouette_avg)))\n",
        "    \n",
        "    #plt.savefig(\"part-2-images/clustering-silhouette.jpg\", dpi=100)\n",
        "    plt.show()\n",
        "C = n_topics\n",
        "clusterer = KMeans(n_clusters=C, random_state=random_state)\n",
        "cluster_labels = clusterer.fit_predict(doc_topic)\n",
        "\n",
        "plot_cluster_silhouette(doc_topic, C, cluster_labels)"
      ],
      "metadata": {
        "colab": {
          "base_uri": "https://localhost:8080/",
          "height": 493
        },
        "id": "28STaMzFkKgj",
        "outputId": "010ec835-0c8a-46d3-bd16-633b68f14d8b"
      },
      "execution_count": null,
      "outputs": [
        {
          "output_type": "display_data",
          "data": {
            "text/plain": [
              "<Figure size 720x504 with 1 Axes>"
            ],
            "image/png": "[encoded data removed]"
          },
          "metadata": {
            "needs_background": "light"
          }
        }
      ]
    }
  ]
}